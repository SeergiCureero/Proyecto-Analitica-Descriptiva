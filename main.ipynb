{
 "cells": [
  {
   "cell_type": "markdown",
   "metadata": {},
   "source": [
    "# Accidents de trànsit a Catalunya"
   ]
  },
  {
   "cell_type": "markdown",
   "metadata": {},
   "source": [
    "## Setup "
   ]
  },
  {
   "cell_type": "markdown",
   "metadata": {},
   "source": [
    "### Importem els moduls que necessitarem"
   ]
  },
  {
   "cell_type": "code",
   "execution_count": 10,
   "metadata": {},
   "outputs": [],
   "source": [
    "import pandas as pd"
   ]
  },
  {
   "cell_type": "markdown",
   "metadata": {},
   "source": [
    "### Guardar les dades dels accidents a un df"
   ]
  },
  {
   "cell_type": "code",
   "execution_count": 11,
   "metadata": {},
   "outputs": [],
   "source": [
    "AccidentsCOMPLET = pd.read_csv(\"dades/Accidents_de_tr_nsit_amb_morts_o_ferits_greus_a_Catalunya_20250131.csv\")"
   ]
  },
  {
   "cell_type": "markdown",
   "metadata": {},
   "source": [
    "## Accidents amb nom de via"
   ]
  },
  {
   "cell_type": "markdown",
   "metadata": {},
   "source": [
    "Netejar dades d'Accidents per quedar-nos amb els que especifiquen via"
   ]
  },
  {
   "cell_type": "code",
   "execution_count": null,
   "metadata": {},
   "outputs": [],
   "source": [
    "AccidentsNomVia = AccidentsCOMPLET.drop(AccidentsCOMPLET[AccidentsCOMPLET['via'] == 'SE'].index)"
   ]
  }
 ],
 "metadata": {
  "kernelspec": {
   "display_name": "sergiEntorn",
   "language": "python",
   "name": "python3"
  },
  "language_info": {
   "codemirror_mode": {
    "name": "ipython",
    "version": 3
   },
   "file_extension": ".py",
   "mimetype": "text/x-python",
   "name": "python",
   "nbconvert_exporter": "python",
   "pygments_lexer": "ipython3",
   "version": "3.13.1"
  }
 },
 "nbformat": 4,
 "nbformat_minor": 2
}
